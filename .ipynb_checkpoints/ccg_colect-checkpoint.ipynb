{
 "cells": [
  {
   "cell_type": "code",
   "execution_count": 1,
   "metadata": {},
   "outputs": [],
   "source": [
    "import numpy as np\n",
    "import pandas as pd\n",
    "import openpyxl \n",
    "import os\n",
    "%run ccp_func.ipynb"
   ]
  },
  {
   "cell_type": "code",
   "execution_count": 20,
   "metadata": {},
   "outputs": [
    {
     "name": "stdout",
     "output_type": "stream",
     "text": [
      "                 Unnamed: 0    Unnamed: 1             Unnamed: 2 Unnamed: 3  \\\n",
      "1                ReportDate   ReportLevel  ReportLevelIdentifier   Currency   \n",
      "2       2017-09-29 00:00:00           CCP                   CC&G        EUR   \n",
      "3       2017-09-29 00:00:00  Default Fund             CCG_EQUITY        EUR   \n",
      "4       2017-09-29 00:00:00  Default Fund               CCG_BOND        EUR   \n",
      "5       2017-09-29 00:00:00  Default Fund               CCG_BOND        USD   \n",
      "6       2017-09-29 00:00:00  Default Fund               CCG_IDEX        EUR   \n",
      "7       2017-09-29 00:00:00  Default Fund              CCG_AGREX        EUR   \n",
      "8  11/13/2017 - 12:10:01 PM           NaN                    NaN        NaN   \n",
      "\n",
      "    Unnamed: 4 Unnamed: 5 Unnamed: 6  Unnamed: 7  Unnamed: 8 Unnamed: 9  \\\n",
      "1        4.1.1      4.1.2      4.1.3       4.1.4       4.1.5      4.1.6   \n",
      "2          NaN        NaN    1500000         NaN         NaN        NaN   \n",
      "3  4.08556e+06        NaN        NaN   902409000   902409000        NaN   \n",
      "4  1.49513e+07        NaN        NaN  3302402000  3302402000        NaN   \n",
      "5          NaN        NaN        NaN         NaN         NaN        NaN   \n",
      "6      42652.5        NaN        NaN     9421000     9421000        NaN   \n",
      "7      1199.76        NaN        NaN      265000      265000        NaN   \n",
      "8          NaN        NaN        NaN         NaN         NaN        NaN   \n",
      "\n",
      "      ...      Unnamed: 115 Unnamed: 116 Unnamed: 117 Unnamed: 118  \\\n",
      "1     ...          18.1.3.2       18.4.1       18.4.2       18.4.3   \n",
      "2     ...                 0          NaN          NaN          NaN   \n",
      "3     ...                20          NaN        45.87        68.36   \n",
      "4     ...                14          NaN        56.51        81.46   \n",
      "5     ...                 0          NaN          NaN          NaN   \n",
      "6     ...                 3          NaN          NaN          NaN   \n",
      "7     ...                 0          NaN          NaN          NaN   \n",
      "8     ...               NaN          NaN          NaN          NaN   \n",
      "\n",
      "  Unnamed: 119 Unnamed: 120 Unnamed: 121 Unnamed: 122 Unnamed: 123  \\\n",
      "1       19.1.1       19.1.2     19.1.3.1     19.1.3.2     19.1.4.1   \n",
      "2            0            0            0            0            0   \n",
      "3           52           15            0            0        77.08   \n",
      "4           30           10            0            0        86.54   \n",
      "5            0            0            0            0            0   \n",
      "6           11            4            0            0            0   \n",
      "7            2            2            0            0            0   \n",
      "8          NaN          NaN          NaN          NaN          NaN   \n",
      "\n",
      "  Unnamed: 124  \n",
      "1     19.1.4.2  \n",
      "2            0  \n",
      "3        73.17  \n",
      "4        83.19  \n",
      "5            0  \n",
      "6            0  \n",
      "7            0  \n",
      "8          NaN  \n",
      "\n",
      "[8 rows x 125 columns]\n"
     ]
    }
   ],
   "source": [
    "def ccg_colect(quarter):\n",
    "    \n",
    "    #quarter = format: 'Q3-2017'\n",
    "    \n",
    "    ccp = 'CCG'\n",
    "    \n",
    "    #basic\n",
    "    b_file = pd.read_excel('../CCP/data/' + quarter.upper() + '/' + ccp.upper() + '_' + \n",
    "                           quarter.lower() + '.xlsx', sheet_name='AggregatedDataFile')\n",
    "    #files in use\n",
    "    a_file = pd.read_excel('../CCP/data/' + quarter.upper() + '/' + ccp.upper() + '_' + \n",
    "                           quarter.lower() + '.xlsx', \n",
    "                           sheet_name='CCP1_DataFile_4.4a')\n",
    "    c_file = pd.read_excel('../CCP/data/' + quarter.upper() + '/' + ccp.upper() + '_' + \n",
    "                           quarter.lower() + '.xlsx', \n",
    "                           sheet_name='CCP1_DataFile_6.1')\n",
    "    d_file = pd.read_excel('../CCP/data/' + quarter.upper() + '/' + ccp.upper() + '_' + \n",
    "                           quarter.lower() + '.xlsx', \n",
    "                           sheet_name='CCP1_DataFile_6.2')\n",
    "    e_file = pd.read_excel('../CCP/data/' + quarter.upper() + '/' + ccp.upper() + '_' + \n",
    "                           quarter.lower() + '.xlsx', \n",
    "                           sheet_name='CCP1_DataFile_18.2')\n",
    "    g_file = pd.read_excel('../CCP/data/' + quarter.upper() + '/' + ccp.upper() + '_' + \n",
    "                           quarter.lower() + '.xlsx', \n",
    "                           sheet_name='CCP1_DataFile_23')\n",
    "    ex_rate = pd.read_excel('../CCP/data/kursy-walutowe-CCP.xlsx', sheet_name='Arkusz1')\n",
    "    \n",
    "    #final file\n",
    "    f_file = pd.DataFrame({'CCP':ccp.upper()}, index=[0,1,2,3])\n",
    "    f_file['quarter'] = quarter\n",
    "    f_file['clearning service'] = ['equity', 'bound', 'idex', 'agrex']\n",
    "    #f_file['currency'] = b_file[b_file.ReportLevel == 'Default Found']['Currency']\n",
    "    b_file = b_file.drop([0])\n",
    "    b_file.head()\n",
    "    \n",
    "    print(b_file)\n",
    "    \n",
    "ccg_colect('Q3-2017')"
   ]
  },
  {
   "cell_type": "code",
   "execution_count": null,
   "metadata": {},
   "outputs": [],
   "source": []
  }
 ],
 "metadata": {
  "kernelspec": {
   "display_name": "Python 3",
   "language": "python",
   "name": "python3"
  },
  "language_info": {
   "codemirror_mode": {
    "name": "ipython",
    "version": 3
   },
   "file_extension": ".py",
   "mimetype": "text/x-python",
   "name": "python",
   "nbconvert_exporter": "python",
   "pygments_lexer": "ipython3",
   "version": "3.6.7"
  }
 },
 "nbformat": 4,
 "nbformat_minor": 2
}
