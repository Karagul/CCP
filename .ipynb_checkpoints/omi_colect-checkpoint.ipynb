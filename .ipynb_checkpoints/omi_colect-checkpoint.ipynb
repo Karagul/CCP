{
 "cells": [
  {
   "cell_type": "code",
   "execution_count": 1,
   "metadata": {},
   "outputs": [],
   "source": [
    "import numpy as np\n",
    "import pandas as pd\n",
    "import openpyxl \n",
    "import os\n",
    "%run ccp_func.ipynb"
   ]
  },
  {
   "cell_type": "code",
   "execution_count": 2,
   "metadata": {},
   "outputs": [],
   "source": [
    "def omi_colect(quarter):\n",
    "    #quarter = format: 'Q3-2017'\n",
    "    \n",
    "    ccp = 'omi clear'\n",
    "    reverse = quarter.split('-')\n",
    "    reverse = reverse[1] + reverse[0]\n",
    "    \n",
    "    #for all keler files cut the last part of the name which is saving date.\n",
    "    #basic\n",
    "    b_file = pd.read_excel('../CCP/data/' + quarter.upper() + '/OMIClear_DataFile_' \n",
    "                           + reverse.upper() + '.xlsx', sheet_name='4_1')\n",
    "    \n",
    "    #files in use\n",
    "    a_file = pd.read_excel('../CCP/data/' + quarter.upper() + '/OMIClear_DataFile_'\n",
    "                           + reverse.upper() + '.xlsx', \n",
    "                               sheet_name='4_4b')\n",
    "    c_file = pd.read_excel('../CCP/data/' + quarter.upper() + '/OMIClear_DataFile_'\n",
    "                           + reverse.upper() + '.xlsx', \n",
    "                               sheet_name='6_1')\n",
    "    d_file = pd.read_excel('../CCP/data/' + quarter.upper() + '/OMIClear_DataFile_' \n",
    "                           + reverse.upper() + '.xlsx', \n",
    "                               sheet_name='6_2')\n",
    "    e_file = pd.read_excel('../CCP/data/' + quarter.upper() + '/OMIClear_DataFile_'\n",
    "                           + reverse.upper() + '.xlsx', \n",
    "                               sheet_name='18_1')\n",
    "    g_file = pd.read_excel('../CCP/data/' + quarter.upper() + '/OMIClear_DataFile_'\n",
    "                           + reverse.upper() + '.xlsx', \n",
    "                               sheet_name='19_1')\n",
    "    h_file_23_1 = pd.read_excel('../CCP/data/' + quarter.upper() + '/OMIClear_DataFile_' \n",
    "                           + reverse.upper() + '.xlsx', \n",
    "                               sheet_name='23_1')\n",
    "    h_file_23_2 = pd.read_excel('../CCP/data/' + quarter.upper() + '/OMIClear_DataFile_' \n",
    "                           + reverse.upper() + '.xlsx', \n",
    "                               sheet_name='23_2')\n",
    "    ex_rate = pd.read_excel('../CCP/data/kursy-walutowe-CCP.xlsx', sheet_name='Arkusz1')\n",
    "    \n",
    "    f_file = pd.DataFrame({'CCP':ccp.upper()}, index=[0])\n",
    "    f_file['quarter'] = quarter\n",
    "    f_file['clearning service'] = ['aggregated']\n",
    "    \n",
    "    f_file['4.1.1'] = b_file['4.1.1']\n",
    "    f_file['4.1.2'] = b_file['4.1.2']\n",
    "    f_file['4.1.3'] = b_file['4.1.3']\n",
    "    f_file['4.1.4'] = b_file['4.1.4']\n",
    "    f_file['4.1.5'] = b_file['4.1.5']\n",
    "    f_file['4.1.6'] = b_file['4.1.6']\n",
    "    f_file['4.1.7'] = b_file['4.1.7']\n",
    "    f_file['4.1.8'] = b_file['4.1.8']\n",
    "    f_file['4.1.9'] = b_file['4.1.9']\n",
    "    f_file['4.1.10'] = b_file['4.1.10']\n",
    "    \n",
    "    f_file['4.4.7.PDA'] = a_file[a_file.ReportLevelIdentifier == 'PeakDayAmountInPast12Months'].reset_index()['4.4.7']\n",
    "    f_file['4.4.7.MA'] = a_file[a_file.ReportLevelIdentifier == 'MeanAverageOverPrevious12Months'].reset_index()['4.4.7']\n",
    "    \n",
    "    f_file['6.1.1.CLIENT'] = sum(c_file[c_file.ReportLevelIdentifier.isin(['Client_Net', 'Client_Gross'])]['6.1.1'])\n",
    "    f_file['6.1.1.TOTAL'] = c_file[c_file.ReportLevelIdentifier == 'Total'].reset_index()['6.1.1']\n",
    "    \n",
    "    f_file['6.2.15.PRE'] = d_file[d_file.ReportLevelIdentifier.isin(['TotalIM_PreHaircut'])]['6.2.15'].values\n",
    "    f_file['6.2.15.POST'] = d_file[d_file.ReportLevelIdentifier.isin(['TotalIM_PostHaircut'])]['6.2.15'].values\n",
    "    \n",
    "    f_file['18.1.1.1'] = e_file['18.1.1.1']\n",
    "    f_file['18.1.1.2'] = e_file['18.1.1.2']\n",
    "\n",
    "    f_file['18.1.2.2'] = e_file['18.1.2.2']\n",
    "\n",
    "    f_file['19.1.1'] = g_file['19.1.1']\n",
    "    f_file['19.1.2'] = g_file['19.1.2']\n",
    "    \n",
    "    f_file['23.1.2.OTC'] = sum(h_file_23_1[(h_file_23_1.ReportLevelIdentifier == 'OTC') & (h_file_23_1.Currency == 'EUR')]['23.1.2'])\n",
    "    f_file['23.1.2.ETD'] = sum(h_file_23_1[(h_file_23_1.ReportLevelIdentifier == 'ETD') & (h_file_23_1.Currency == 'EUR')]['23.1.2'])\n",
    "    \n",
    "    f_file['23.2.1.OTC'] = sum(h_file_23_2[(h_file_23_2.ReportLevelIdentifier == 'OTC') & (h_file_23_2.Currency == 'EUR')]['23.2.1'])\n",
    "    f_file['23.2.1.ETD'] = sum(h_file_23_2[(h_file_23_2.ReportLevelIdentifier == 'ETD') & (h_file_23_2.Currency == 'EUR')]['23.2.1'])\n",
    "    \n",
    "    ccp_save(ccp, quarter, f_file)"
   ]
  },
  {
   "cell_type": "code",
   "execution_count": 3,
   "metadata": {},
   "outputs": [],
   "source": [
    "#omi_colect('Q4-2015')"
   ]
  },
  {
   "cell_type": "code",
   "execution_count": null,
   "metadata": {},
   "outputs": [],
   "source": []
  }
 ],
 "metadata": {
  "kernelspec": {
   "display_name": "Python 3",
   "language": "python",
   "name": "python3"
  },
  "language_info": {
   "codemirror_mode": {
    "name": "ipython",
    "version": 3
   },
   "file_extension": ".py",
   "mimetype": "text/x-python",
   "name": "python",
   "nbconvert_exporter": "python",
   "pygments_lexer": "ipython3",
   "version": "3.6.7"
  }
 },
 "nbformat": 4,
 "nbformat_minor": 2
}
