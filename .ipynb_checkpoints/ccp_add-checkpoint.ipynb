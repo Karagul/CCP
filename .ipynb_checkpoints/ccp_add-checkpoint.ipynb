{
 "cells": [
  {
   "cell_type": "code",
   "execution_count": 1,
   "metadata": {},
   "outputs": [
    {
     "name": "stdout",
     "output_type": "stream",
     "text": [
      "['CCP braki.ods', 'aio_sorted.xlsx', 'all_in_one_aggregated.xlsx', 'nasdaq', 'omi clear', 'ice clear netherlands', 'ice clear europe', 'ccp austria', 'lchsa', 'ccg', 'all_in_one.xlsx', 'lme', 'full_data', 'euro-ccp', 'keler', 'lchltd', 'aio_aggr_sorted.xlsx', 'eurex', 'kdpw', 'bme clearing']\n"
     ]
    }
   ],
   "source": [
    "import numpy as np\n",
    "import pandas as pd\n",
    "import openpyxl \n",
    "import os\n",
    "\n",
    "print(os.listdir('../CCP/final_data/'))"
   ]
  },
  {
   "cell_type": "code",
   "execution_count": 8,
   "metadata": {},
   "outputs": [],
   "source": [
    "def ccp_add(ccp, quarter):\n",
    "\n",
    "    basic_file = pd.read_excel('../CCP/final_data/all_in_one.xlsx', sheet_name='all_in_one')\n",
    "    file_to_add = pd.read_excel('../CCP/final_data/' + ccp.lower() + '-' + quarter.upper() + '.xlsx', sheet_name=ccp.lower() + '-' + quarter.upper())\n",
    "    \n",
    "    #Objects convertion to float64\n",
    "    for col in ['4.1.2', '4.1.3', '4.1.6', '4.1.7', '4.1.8', '4.1.9', '4.1.10', '18.1.2.2', '19.1.1']:\n",
    "        basic_file[col] = pd.to_numeric(basic_file[col], errors='coerce')\n",
    "        file_to_add[col] = pd.to_numeric(basic_file[col], errors='coerce')\n",
    "    \n",
    "    final_file = pd.concat([basic_file, file_to_add])\n",
    "    final_file = final_file.reset_index()\n",
    "    final_file = final_file.drop(columns=['index'])\n",
    "    writer = pd.ExcelWriter(\"final_data/all_in_one.xlsx\")\n",
    "    final_file.to_excel(writer, 'all_in_one')\n",
    "    writer.save()\n"
   ]
  },
  {
   "cell_type": "code",
   "execution_count": 9,
   "metadata": {},
   "outputs": [],
   "source": [
    "ccp_add('keler', 'Q4-2017')"
   ]
  },
  {
   "cell_type": "code",
   "execution_count": null,
   "metadata": {},
   "outputs": [],
   "source": []
  }
 ],
 "metadata": {
  "kernelspec": {
   "display_name": "Python 3",
   "language": "python",
   "name": "python3"
  },
  "language_info": {
   "codemirror_mode": {
    "name": "ipython",
    "version": 3
   },
   "file_extension": ".py",
   "mimetype": "text/x-python",
   "name": "python",
   "nbconvert_exporter": "python",
   "pygments_lexer": "ipython3",
   "version": "3.6.7"
  }
 },
 "nbformat": 4,
 "nbformat_minor": 2
}
