{
 "cells": [
  {
   "cell_type": "code",
   "execution_count": 1,
   "metadata": {},
   "outputs": [],
   "source": [
    "import numpy as np\n",
    "import pandas as pd\n",
    "import openpyxl \n",
    "import os"
   ]
  },
  {
   "cell_type": "code",
   "execution_count": 3,
   "metadata": {},
   "outputs": [],
   "source": [
    "#\"all in one\" file sort\n",
    "#sorting without aggregation\n",
    "def ccp_aio_sort(ccp_index=True):\n",
    "    ccp = pd.read_excel('../CCP/final_data/all_in_one.xlsx', sheet_name='all_in_one')\n",
    "    for row in range(len(ccp)):\n",
    "        ccp.loc[row, 'year'] = ccp.iloc[row]['quarter'].split('-')[1]\n",
    "        ccp.loc[row, 'q'] = ccp.iloc[row]['quarter'].split('-')[0][1]\n",
    "    ccp = ccp.sort_values(by=['year', 'q'], ascending=False)\n",
    "    if ccp_index == True:\n",
    "        ccp = ccp.set_index(\"CCP\")\n",
    "    else:\n",
    "        pass\n",
    "    #save\n",
    "    writer = pd.ExcelWriter(\"final_data/aio_sorted.xlsx\")\n",
    "    ccp.to_excel(writer, 'aio_sorted')\n",
    "    writer.save()\n",
    "    print(\"Success! Note: If you are not into to have CCP's name set as a index run function with an extra argument: ccp_aio_sort(ccp_index=False)\")\n",
    "    \n",
    "#\"all in one\" file sort\n",
    "#sorting with aggregation\n",
    "def ccp_aio_aggr_sort(ccp_index=True):\n",
    "    ccp = pd.read_excel('../CCP/final_data/all_in_one_aggregated.xlsx', sheet_name='all_in_one_aggregated')\n",
    "    for row in range(len(ccp)):\n",
    "        ccp.loc[row, 'year'] = ccp.iloc[row]['quarter'].split('-')[1]\n",
    "        ccp.loc[row, 'q'] = ccp.iloc[row]['quarter'].split('-')[0][1]\n",
    "    ccp = ccp.sort_values(by=['year', 'q'], ascending=False)\n",
    "    if ccp_index == True:\n",
    "        ccp = ccp.set_index(\"CCP\")\n",
    "    else:\n",
    "        pass\n",
    "    #save\n",
    "    writer = pd.ExcelWriter(\"final_data/aio_aggr_sorted.xlsx\")\n",
    "    ccp.to_excel(writer, 'aio_aggr_sorted')\n",
    "    writer.save()\n",
    "    print(\"Success! Note: If you are not into to have CCP's name set as a index run function with an extra argument: ccp_aio_aggr_sort(ccp_index=False)\")\n"
   ]
  },
  {
   "cell_type": "code",
   "execution_count": 4,
   "metadata": {},
   "outputs": [
    {
     "name": "stdout",
     "output_type": "stream",
     "text": [
      "Success! Note: If you are not into to have CCP's name set as a index run function with an extra argument: ccp_aio_sort(ccp_index=False)\n"
     ]
    }
   ],
   "source": [
    "ccp_aio_sort()"
   ]
  },
  {
   "cell_type": "code",
   "execution_count": 5,
   "metadata": {},
   "outputs": [
    {
     "name": "stdout",
     "output_type": "stream",
     "text": [
      "Success! Note: If you are not into to have CCP's name set as a index run function with an extra argument: ccp_aio_aggr_sort(ccp_index=False)\n"
     ]
    }
   ],
   "source": [
    "ccp_aio_aggr_sort()"
   ]
  },
  {
   "cell_type": "code",
   "execution_count": null,
   "metadata": {},
   "outputs": [],
   "source": []
  }
 ],
 "metadata": {
  "kernelspec": {
   "display_name": "Python 3",
   "language": "python",
   "name": "python3"
  },
  "language_info": {
   "codemirror_mode": {
    "name": "ipython",
    "version": 3
   },
   "file_extension": ".py",
   "mimetype": "text/x-python",
   "name": "python",
   "nbconvert_exporter": "python",
   "pygments_lexer": "ipython3",
   "version": "3.6.7"
  }
 },
 "nbformat": 4,
 "nbformat_minor": 2
}
