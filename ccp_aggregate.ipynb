{
 "cells": [
  {
   "cell_type": "code",
   "execution_count": 3,
   "metadata": {},
   "outputs": [],
   "source": [
    "import numpy as np\n",
    "import pandas as pd\n",
    "import openpyxl \n",
    "import os"
   ]
  },
  {
   "cell_type": "code",
   "execution_count": 4,
   "metadata": {},
   "outputs": [],
   "source": [
    "def ccp_aggr_and_save():\n",
    "    ccp = pd.read_excel('../CCP/data/all_in_one.xlsx', sheet_name='all_in_one')\n",
    "    ccp_agr = ccp.groupby(['CCP', 'quarter']).sum()\n",
    "    #MultiIndex to DataFrame after grouping\n",
    "    ccp_agr = ccp_agr.reset_index(['CCP', 'quarter'])\n",
    "    #save\n",
    "    writer = pd.ExcelWriter(\"data/all_in_one_aggregated.xlsx\")\n",
    "    ccp_agr.to_excel(writer, 'all_in_one_aggregated')\n",
    "    writer.save()\n",
    "    "
   ]
  },
  {
   "cell_type": "code",
   "execution_count": 5,
   "metadata": {},
   "outputs": [],
   "source": [
    "ccp_aggr_and_save()"
   ]
  },
  {
   "cell_type": "code",
   "execution_count": null,
   "metadata": {},
   "outputs": [],
   "source": []
  }
 ],
 "metadata": {
  "kernelspec": {
   "display_name": "Python 3",
   "language": "python",
   "name": "python3"
  },
  "language_info": {
   "codemirror_mode": {
    "name": "ipython",
    "version": 3
   },
   "file_extension": ".py",
   "mimetype": "text/x-python",
   "name": "python",
   "nbconvert_exporter": "python",
   "pygments_lexer": "ipython3",
   "version": "3.6.7"
  }
 },
 "nbformat": 4,
 "nbformat_minor": 2
}
