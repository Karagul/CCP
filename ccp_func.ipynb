{
 "cells": [
  {
   "cell_type": "code",
   "execution_count": 3,
   "metadata": {},
   "outputs": [],
   "source": [
    "import numpy as np\n",
    "import pandas as pd\n",
    "\n",
    "def add_ex_rate(file, ex_rate, quarter):\n",
    "    \n",
    "    quarter = quarter\n",
    "    for row in range(len(file)):\n",
    "        if file.loc[row, 'Currency'] == 'SEK':\n",
    "            file.loc[row, 'ex_rate'] = ex_rate[ex_rate['Exchange rates'].isin(['EUR/SEK'])][quarter].values\n",
    "        elif file.loc[row, 'Currency'] == 'NOK':\n",
    "            file.loc[row, 'ex_rate'] = ex_rate[ex_rate['Exchange rates'].isin(['EUR/NOK'])][quarter].values\n",
    "        elif file.loc[row, 'Currency'] == 'USD':\n",
    "            file.loc[row, 'ex_rate'] = ex_rate[ex_rate['Exchange rates'].isin(['EUR/USD'])][quarter].values\n",
    "        elif file.loc[row, 'Currency'] == 'DKK':\n",
    "            file.loc[row, 'ex_rate'] = ex_rate[ex_rate['Exchange rates'].isin(['EUR/DKK'])][quarter].values\n",
    "        elif file.loc[row, 'Currency'] == 'CHF':\n",
    "            file.loc[row, 'ex_rate'] = ex_rate[ex_rate['Exchange rates'].isin(['EUR/CHF'])][quarter].values\n",
    "        elif file.loc[row, 'Currency'] == 'GBP':\n",
    "            file.loc[row, 'ex_rate'] = ex_rate[ex_rate['Exchange rates'].isin(['EUR/GBP'])][quarter].values\n",
    "        elif file.loc[row, 'Currency'] == 'JPY':\n",
    "            file.loc[row, 'ex_rate'] = ex_rate[ex_rate['Exchange rates'].isin(['EUR/JPY'])][quarter].values\n",
    "        elif file.loc[row, 'Currency'] == 'CAD':\n",
    "            file.loc[row, 'ex_rate'] = ex_rate[ex_rate['Exchange rates'].isin(['EUR/CAD'])][quarter].values\n",
    "        elif file.loc[row, 'Currency'] == 'AUD':\n",
    "            file.loc[row, 'ex_rate'] = ex_rate[ex_rate['Exchange rates'].isin(['EUR/AUD'])][quarter].values\n",
    "        elif file.loc[row, 'Currency'] == 'HUF':\n",
    "            file.loc[row, 'ex_rate'] = ex_rate[ex_rate['Exchange rates'].isin(['EUR/JPY'])][quarter].values\n",
    "        elif file.loc[row, 'Currency'] == 'PLN':\n",
    "            file.loc[row, 'ex_rate'] = ex_rate[ex_rate['Exchange rates'].isin(['EUR/PLN'])][quarter].values\n",
    "        elif file.loc[row, 'Currency'] == 'MXN':\n",
    "            file.loc[row, 'ex_rate'] = ex_rate[ex_rate['Exchange rates'].isin(['EUR/MXN'])][quarter].values\n",
    "        elif file.loc[row, 'Currency'] == 'NZD':\n",
    "            file.loc[row, 'ex_rate'] = ex_rate[ex_rate['Exchange rates'].isin(['EUR/NZD'])][quarter].values\n",
    "        elif file.loc[row, 'Currency'] == 'SGD':\n",
    "            file.loc[row, 'ex_rate'] = ex_rate[ex_rate['Exchange rates'].isin(['EUR/SGD'])][quarter].values\n",
    "        elif file.loc[row, 'Currency'] == 'TRY':\n",
    "            file.loc[row, 'ex_rate'] = 1 #need to be upadated to ex_rate[ex_rate['Exchange rates'].isin(['EUR/TRY'])][quarter].values\n",
    "        elif file.loc[row, 'Currency'] == 'ZAR':\n",
    "            file.loc[row, 'ex_rate'] = ex_rate[ex_rate['Exchange rates'].isin(['EUR/ZAR'])][quarter].values\n",
    "        elif file.loc[row, 'Currency'] == 'CNY':\n",
    "            file.loc[row, 'ex_rate'] = 1 #as TRY\n",
    "        elif file.loc[row, 'Currency'] == 'CZK':\n",
    "            file.loc[row, 'ex_rate'] = ex_rate[ex_rate['Exchange rates'].isin(['EUR/CZK'])][quarter].values\n",
    "        elif file.loc[row, 'Currency'] == 'HKD':\n",
    "            file.loc[row, 'ex_rate'] = ex_rate[ex_rate['Exchange rates'].isin(['EUR/HKD'])][quarter].values\n",
    "        elif file.loc[row, 'Currency'] == 'EUR':\n",
    "            file.loc[row, 'ex_rate'] = 1\n",
    "        else:\n",
    "            pass\n",
    "\n",
    "def ccp_save(ccp, quarter, file):\n",
    "    writer = pd.ExcelWriter(\"data/\" + ccp.lower() + '/' + ccp.lower() + '-' + quarter.upper() + '.xlsx')\n",
    "    file.to_excel(writer, ccp.lower() + '-' + quarter.upper())\n",
    "    writer.save()"
   ]
  }
 ],
 "metadata": {
  "kernelspec": {
   "display_name": "Python 3",
   "language": "python",
   "name": "python3"
  },
  "language_info": {
   "codemirror_mode": {
    "name": "ipython",
    "version": 3
   },
   "file_extension": ".py",
   "mimetype": "text/x-python",
   "name": "python",
   "nbconvert_exporter": "python",
   "pygments_lexer": "ipython3",
   "version": "3.6.7"
  }
 },
 "nbformat": 4,
 "nbformat_minor": 2
}
