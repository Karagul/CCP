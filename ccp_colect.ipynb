{
 "cells": [
  {
   "cell_type": "code",
   "execution_count": 11,
   "metadata": {},
   "outputs": [],
   "source": [
    "import numpy as np\n",
    "import pandas as pd\n",
    "import openpyxl \n",
    "import os\n",
    "%run ccp_func.ipynb\n",
    "%run bme_colect.ipynb\n",
    "%run ccg_colect.ipynb\n",
    "%run ccp_austria_colect.ipynb\n",
    "%run eccp_colect.ipynb\n",
    "%run eurex_colect.ipynb\n",
    "%run ice_europe_colect.ipynb\n",
    "%run ice_nl_colect.ipynb\n",
    "%run kdpw_colect.ipynb\n",
    "%run keler_colect.ipynb\n",
    "%run lchltd_colect.ipynb\n",
    "%run lchsa_colect.ipynb\n",
    "%run lme_colect.ipynb\n",
    "%run nasdaq_colect.ipynb\n",
    "%run omi_colect.ipynb"
   ]
  },
  {
   "cell_type": "code",
   "execution_count": 43,
   "metadata": {},
   "outputs": [],
   "source": [
    "message = \"\"\"\n",
    "Looks like you used invalid ccp's name.\n",
    "Valid names are: 'BME', 'CCG', 'CCP AUSTRIA', 'EURO CCP', 'EUREX', 'ICE EUROPE', 'ICE NL', 'KDPW', 'KELER', 'LCHLTD', 'LCHSA', 'LME', 'NASDAQ', 'OMI'\n",
    "Remember about correct quarter format eg. 'Q2-2018'\n",
    "\"\"\"\n",
    "\n",
    "def ccp_colect(ccp, quarter):\n",
    "    if ccp.upper() == 'BME':\n",
    "        bme_colect(quarter)\n",
    "        print(ccp.upper() + ' for ' + quarter + ' colected!')\n",
    "    elif ccp.upper() == 'CCG':\n",
    "        ccg_colect(quarter)\n",
    "        print(ccp.upper() + ' for ' + quarter + ' colected!')\n",
    "    elif ccp.upper() == 'CCP AUSTRIA':\n",
    "        ccp_austria_colect(quarter)\n",
    "        print(ccp.upper() + ' for ' + quarter + ' colected!')\n",
    "        print('''\n",
    "        FuruteWarning: function is valid till Q4-2019. \n",
    "        Files for 2018 and 2019 need to by saved in full quarter description \n",
    "        eg. q1-q4-2018 and q1-q4-2019 except q1-q2-2018 and q1-q3-2019\n",
    "        ''')\n",
    "    elif ccp.upper() == 'EURO CCP':\n",
    "        eccp_colect(quarter)\n",
    "        print(ccp.upper() + ' for ' + quarter + ' colected!')\n",
    "    elif ccp.upper() == 'EUREX':\n",
    "        eurex_colect(quarter)\n",
    "        print(ccp.upper() + ' for ' + quarter + ' colected!')\n",
    "    elif ccp.upper() == 'ICE EUROPE':\n",
    "        ice_europe_colect(quarter)\n",
    "        print(ccp.upper() + ' for ' + quarter + ' colected!')\n",
    "    elif ccp.upper() == 'ICE NL':\n",
    "        ice_nl_colect(quarter)\n",
    "        print(ccp.upper() + ' for ' + quarter + ' colected!')\n",
    "    elif ccp.upper() == 'KDPW':\n",
    "        kdpw_colect(quarter)\n",
    "        print(ccp.upper() + ' for ' + quarter + ' colected!')\n",
    "    elif ccp.upper() == 'KELER':\n",
    "        keler_colect(quarter)\n",
    "        print(ccp.upper() + ' for ' + quarter + ' colected!')\n",
    "    elif ccp.upper() == 'LCHLTD':\n",
    "        lchltd_colect(quarter)\n",
    "        print(ccp.upper() + ' for ' + quarter + ' colected!')\n",
    "    elif ccp.upper() == 'LCHSA':\n",
    "        lchsa_colect(quarter)\n",
    "        print(ccp.upper() + ' for ' + quarter + ' colected!')\n",
    "    elif ccp.upper() == 'LME':\n",
    "        lme_colect(quarter)\n",
    "        print(ccp.upper() + ' for ' + quarter + ' colected!')\n",
    "    elif ccp.upper() == 'NASDAQ':\n",
    "        nasdaq_colect(quarter)\n",
    "        print(ccp.upper() + ' for ' + quarter + ' colected!')\n",
    "    elif ccp.upper() == 'OMI':\n",
    "        omi_colect(quarter)\n",
    "        print(ccp.upper() + ' for ' + quarter + ' colected!')\n",
    "    else:\n",
    "        print(message)"
   ]
  },
  {
   "cell_type": "code",
   "execution_count": 44,
   "metadata": {},
   "outputs": [
    {
     "name": "stdout",
     "output_type": "stream",
     "text": [
      "CCP AUSTRIA for Q2-2018 colected!\n",
      "\n",
      "        FuruteWarning: function is valid till Q4-2019. \n",
      "        Files for 2018 and 2019 need to by saved in full quarter description \n",
      "        eg. q1-q4-2018 and q1-q4-2019 except q1-q2-2018 and q1-q3-2019\n",
      "        \n"
     ]
    }
   ],
   "source": [
    "ccp_colect('ccp austria', 'Q2-2018')"
   ]
  },
  {
   "cell_type": "code",
   "execution_count": null,
   "metadata": {},
   "outputs": [],
   "source": []
  }
 ],
 "metadata": {
  "kernelspec": {
   "display_name": "Python 3",
   "language": "python",
   "name": "python3"
  },
  "language_info": {
   "codemirror_mode": {
    "name": "ipython",
    "version": 3
   },
   "file_extension": ".py",
   "mimetype": "text/x-python",
   "name": "python",
   "nbconvert_exporter": "python",
   "pygments_lexer": "ipython3",
   "version": "3.6.7"
  }
 },
 "nbformat": 4,
 "nbformat_minor": 2
}
