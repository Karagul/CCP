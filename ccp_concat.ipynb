{
 "cells": [
  {
   "cell_type": "code",
   "execution_count": 4,
   "metadata": {},
   "outputs": [
    {
     "name": "stdout",
     "output_type": "stream",
     "text": [
      "['ccg-Q4-2016.xlsx', 'ccg-Q3-2017.xlsx', 'ccg-Q4-2017.xlsx', 'ccg-Q1-2018.xlsx', 'ccg-Q1-2017.xlsx', 'ccg-Q3-2016.xlsx', 'ccg-Q2-2017.xlsx', 'ccg-Q2-2018.xlsx']\n"
     ]
    }
   ],
   "source": [
    "import numpy as np\n",
    "import pandas as pd\n",
    "import openpyxl \n",
    "import os\n",
    "print(os.listdir(\"../CCP/data/ccg\"))"
   ]
  },
  {
   "cell_type": "code",
   "execution_count": 5,
   "metadata": {},
   "outputs": [],
   "source": [
    "def ccp_concat(ccp_name):\n",
    "    qtr = [ex_name for ex_name in os.listdir(\"../CCP/data/\" + ccp_name.lower())]\n",
    "\n",
    "    all_ccp = []\n",
    "    for ccp in os.listdir(\"../CCP/data/\" + ccp_name.lower()):\n",
    "        all_ccp.append(pd.read_excel('../CCP/data/' + ccp_name.lower() + '/' + ccp))\n",
    "    \n",
    "    ccp_full = pd.concat(all_ccp)\n",
    "    ccp_full = ccp_full.reset_index()\n",
    "    ccp_full = ccp_full.drop(columns=['index'])\n",
    "    try:\n",
    "        ccp_full = ccp_full.drop(columns=['currency'])\n",
    "    except:\n",
    "        pass\n",
    "    writer = pd.ExcelWriter(\"data/full_data/\" + ccp_name.lower() + \".xlsx\")\n",
    "    ccp_full.to_excel(writer, ccp_name.lower() + '_full')\n",
    "    writer.save()"
   ]
  },
  {
   "cell_type": "code",
   "execution_count": 6,
   "metadata": {},
   "outputs": [],
   "source": [
    "ccp_concat('ccg')"
   ]
  },
  {
   "cell_type": "code",
   "execution_count": 7,
   "metadata": {
    "scrolled": true
   },
   "outputs": [
    {
     "name": "stdout",
     "output_type": "stream",
     "text": [
      "['keler.xlsx', 'kdpw.xlsx', 'ice clear europe.xlsx', 'nasdaq.xlsx', 'bme clearing.xlsx', 'omi clear.xlsx', 'lchltd.xlsx', 'ice clear netherlands.xlsx', 'lchsa.xlsx', 'lme.xlsx', 'euro-ccp.xlsx', 'ccg.xlsx', 'ccp austria.xlsx', 'eurex.xlsx']\n"
     ]
    }
   ],
   "source": [
    "print(os.listdir(\"../CCP/data/full_data\"))"
   ]
  },
  {
   "cell_type": "code",
   "execution_count": 8,
   "metadata": {},
   "outputs": [],
   "source": [
    "def ccp_concat_all():\n",
    "    qtr = [ex_name for ex_name in os.listdir(\"../CCP/data/full_data\")]\n",
    "\n",
    "    all_ccp = []\n",
    "    for ccp in os.listdir(\"../CCP/data/full_data\"):\n",
    "        all_ccp.append(pd.read_excel('../CCP/data/full_data' + '/' + ccp))\n",
    "    \n",
    "    ccp_full = pd.concat(all_ccp)\n",
    "    ccp_full = ccp_full.reset_index()\n",
    "    ccp_full = ccp_full.drop(columns=['index'])\n",
    "    writer = pd.ExcelWriter(\"data/all_in_one.xlsx\")\n",
    "    ccp_full.to_excel(writer, 'all_in_one')\n",
    "    writer.save()"
   ]
  },
  {
   "cell_type": "code",
   "execution_count": 9,
   "metadata": {},
   "outputs": [],
   "source": [
    "ccp_concat_all()"
   ]
  },
  {
   "cell_type": "code",
   "execution_count": null,
   "metadata": {},
   "outputs": [],
   "source": []
  }
 ],
 "metadata": {
  "kernelspec": {
   "display_name": "Python 3",
   "language": "python",
   "name": "python3"
  },
  "language_info": {
   "codemirror_mode": {
    "name": "ipython",
    "version": 3
   },
   "file_extension": ".py",
   "mimetype": "text/x-python",
   "name": "python",
   "nbconvert_exporter": "python",
   "pygments_lexer": "ipython3",
   "version": "3.6.7"
  }
 },
 "nbformat": 4,
 "nbformat_minor": 2
}
