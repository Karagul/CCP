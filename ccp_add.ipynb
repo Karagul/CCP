{
 "cells": [
  {
   "cell_type": "code",
   "execution_count": 7,
   "metadata": {},
   "outputs": [
    {
     "name": "stdout",
     "output_type": "stream",
     "text": [
      "['ccp-austria-q1-q4-2018.xlsx', 'Q4-2017', 'keler-Q4-2017.xlsx', 'Q4-2018', 'ccp-austria-q1-q4-2016.xlsx', 'nasdaq', 'omi clear', 'ice clear netherlands', 'Q3-2017', 'euro-ccp-q4-2015-q2-2018.xlsx', 'ice clear europe', 'euro_CCP_q1_2017.xlsx', 'Q2-2018', 'ccp austria', 'Q2-2016', 'Q3-2018', 'lchsa', 'kursy-walutowe-CCP.xlsx', 'ccg', 'all_in_one.xlsx', 'Q3-2016', 'lme', 'full_data', 'ccp-austria-q1-q4-2017.xlsx', 'euro-ccp', 'keler', 'euro_CCP_q4_2017.xlsx', 'Q4-2015', 'lchltd', 'Q1-2017', 'eurex', 'kdpw', 'Q2-2017', 'Q1-2018', 'Q1-2016', 'Q4-2016', 'bme clearing']\n"
     ]
    }
   ],
   "source": [
    "import numpy as np\n",
    "import pandas as pd\n",
    "import openpyxl \n",
    "import os\n",
    "\n",
    "print(os.listdir('../CCP/data/'))"
   ]
  },
  {
   "cell_type": "code",
   "execution_count": 8,
   "metadata": {},
   "outputs": [],
   "source": [
    "def ccp_add(ccp, quarter):\n",
    "\n",
    "    basic_file = pd.read_excel('../CCP/data/all_in_one.xlsx', sheet_name='all_in_one')\n",
    "    file_to_add = pd.read_excel('../CCP/data/' + ccp.lower() + '-' + quarter.upper() + '.xlsx', sheet_name=ccp.lower() + '-' + quarter.upper())\n",
    "    \n",
    "    #Objects convertion to float64\n",
    "    for col in ['4.1.2', '4.1.3', '4.1.6', '4.1.7', '4.1.8', '4.1.9', '4.1.10', '18.1.2.2', '19.1.1']:\n",
    "        basic_file[col] = pd.to_numeric(basic_file[col], errors='coerce')\n",
    "        file_to_add[col] = pd.to_numeric(basic_file[col], errors='coerce')\n",
    "    \n",
    "    final_file = pd.concat([basic_file, file_to_add])\n",
    "    final_file = final_file.reset_index()\n",
    "    final_file = final_file.drop(columns=['index'])\n",
    "    writer = pd.ExcelWriter(\"data/all_in_one.xlsx\")\n",
    "    final_file.to_excel(writer, 'all_in_one')\n",
    "    writer.save()\n"
   ]
  },
  {
   "cell_type": "code",
   "execution_count": 9,
   "metadata": {},
   "outputs": [],
   "source": [
    "ccp_add('keler', 'Q4-2017')"
   ]
  },
  {
   "cell_type": "code",
   "execution_count": null,
   "metadata": {},
   "outputs": [],
   "source": []
  }
 ],
 "metadata": {
  "kernelspec": {
   "display_name": "Python 3",
   "language": "python",
   "name": "python3"
  },
  "language_info": {
   "codemirror_mode": {
    "name": "ipython",
    "version": 3
   },
   "file_extension": ".py",
   "mimetype": "text/x-python",
   "name": "python",
   "nbconvert_exporter": "python",
   "pygments_lexer": "ipython3",
   "version": "3.6.7"
  }
 },
 "nbformat": 4,
 "nbformat_minor": 2
}
